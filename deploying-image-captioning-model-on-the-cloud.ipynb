{
 "cells": [
  {
   "cell_type": "code",
   "execution_count": 2,
   "metadata": {
    "_cell_guid": "b1076dfc-b9ad-4769-8c92-a6c4dae69d19",
    "_uuid": "8f2839f25d086af736a60e9eeb907d3b93b6e0e5",
    "execution": {
     "iopub.execute_input": "2022-10-20T07:14:53.141824Z",
     "iopub.status.busy": "2022-10-20T07:14:53.141165Z",
     "iopub.status.idle": "2022-10-20T07:14:59.014377Z",
     "shell.execute_reply": "2022-10-20T07:14:59.013619Z",
     "shell.execute_reply.started": "2022-10-20T07:14:53.141731Z"
    }
   },
   "outputs": [
    {
     "ename": "ModuleNotFoundError",
     "evalue": "No module named 'tensorflow'",
     "output_type": "error",
     "traceback": [
      "\u001b[1;31m---------------------------------------------------------------------------\u001b[0m",
      "\u001b[1;31mModuleNotFoundError\u001b[0m                       Traceback (most recent call last)",
      "Input \u001b[1;32mIn [2]\u001b[0m, in \u001b[0;36m<cell line: 4>\u001b[1;34m()\u001b[0m\n\u001b[0;32m      2\u001b[0m \u001b[38;5;28;01mimport\u001b[39;00m \u001b[38;5;21;01mpandas\u001b[39;00m \u001b[38;5;28;01mas\u001b[39;00m \u001b[38;5;21;01mpd\u001b[39;00m\n\u001b[0;32m      3\u001b[0m \u001b[38;5;28;01mimport\u001b[39;00m \u001b[38;5;21;01mos\u001b[39;00m\n\u001b[1;32m----> 4\u001b[0m \u001b[38;5;28;01mimport\u001b[39;00m \u001b[38;5;21;01mtensorflow\u001b[39;00m \u001b[38;5;28;01mas\u001b[39;00m \u001b[38;5;21;01mtf\u001b[39;00m\n\u001b[0;32m      5\u001b[0m \u001b[38;5;28;01mfrom\u001b[39;00m \u001b[38;5;21;01mtqdm\u001b[39;00m \u001b[38;5;28;01mimport\u001b[39;00m tqdm\n\u001b[0;32m      6\u001b[0m \u001b[38;5;28;01mfrom\u001b[39;00m \u001b[38;5;21;01mtensorflow\u001b[39;00m\u001b[38;5;21;01m.\u001b[39;00m\u001b[38;5;21;01mkeras\u001b[39;00m\u001b[38;5;21;01m.\u001b[39;00m\u001b[38;5;21;01mpreprocessing\u001b[39;00m\u001b[38;5;21;01m.\u001b[39;00m\u001b[38;5;21;01mimage\u001b[39;00m \u001b[38;5;28;01mimport\u001b[39;00m ImageDataGenerator, load_img, img_to_array\n",
      "\u001b[1;31mModuleNotFoundError\u001b[0m: No module named 'tensorflow'"
     ]
    }
   ],
   "source": [
    "import numpy as np\n",
    "import pandas as pd\n",
    "import os\n",
    "import tensorflow as tf\n",
    "from tqdm import tqdm\n",
    "from tensorflow.keras.preprocessing.image import ImageDataGenerator, load_img, img_to_array\n",
    "from tensorflow.keras.preprocessing.text import Tokenizer\n",
    "from tensorflow.keras.preprocessing.sequence import pad_sequences\n",
    "from tensorflow.keras.utils import Sequence\n",
    "from tensorflow.keras.utils import to_categorical\n",
    "from tensorflow.keras.models import Sequential, Model\n",
    "from tensorflow.keras.layers import Conv2D, MaxPooling2D, GlobalAveragePooling2D, Activation, Dropout, Flatten, Dense, Input, Layer\n",
    "from tensorflow.keras.layers import Embedding, LSTM, add, Concatenate, Reshape, concatenate, Bidirectional\n",
    "from tensorflow.keras.applications import VGG16, ResNet50, DenseNet201\n",
    "from tensorflow.keras.optimizers import Adam\n",
    "from tensorflow.keras.callbacks import ModelCheckpoint, EarlyStopping, ReduceLROnPlateau\n",
    "import warnings\n",
    "import matplotlib.pyplot as plt\n",
    "import seaborn as sns\n",
    "from textwrap import wrap\n",
    "\n",
    "plt.rcParams['font.size'] = 12\n",
    "sns.set_style(\"dark\")\n",
    "warnings.filterwarnings('ignore')"
   ]
  },
  {
   "cell_type": "code",
   "execution_count": 3,
   "metadata": {},
   "outputs": [
    {
     "ename": "ModuleNotFoundError",
     "evalue": "No module named 'tensorflow'",
     "output_type": "error",
     "traceback": [
      "\u001b[1;31m---------------------------------------------------------------------------\u001b[0m",
      "\u001b[1;31mModuleNotFoundError\u001b[0m                       Traceback (most recent call last)",
      "Input \u001b[1;32mIn [3]\u001b[0m, in \u001b[0;36m<cell line: 1>\u001b[1;34m()\u001b[0m\n\u001b[1;32m----> 1\u001b[0m \u001b[38;5;28;01mimport\u001b[39;00m \u001b[38;5;21;01mtensorflow\u001b[39;00m \u001b[38;5;28;01mas\u001b[39;00m \u001b[38;5;21;01mtf\u001b[39;00m\n\u001b[0;32m      2\u001b[0m tf\u001b[38;5;241m.\u001b[39m__version__\n",
      "\u001b[1;31mModuleNotFoundError\u001b[0m: No module named 'tensorflow'"
     ]
    }
   ],
   "source": [
    "import tensorflow as tf\n",
    "tf.__version__"
   ]
  },
  {
   "cell_type": "code",
   "execution_count": 2,
   "metadata": {
    "execution": {
     "iopub.execute_input": "2022-10-20T07:14:59.016282Z",
     "iopub.status.busy": "2022-10-20T07:14:59.016020Z",
     "iopub.status.idle": "2022-10-20T07:14:59.021134Z",
     "shell.execute_reply": "2022-10-20T07:14:59.020422Z",
     "shell.execute_reply.started": "2022-10-20T07:14:59.016254Z"
    }
   },
   "outputs": [],
   "source": [
    "image_path = 'Images'"
   ]
  },
  {
   "cell_type": "code",
   "execution_count": null,
   "metadata": {
    "execution": {
     "iopub.execute_input": "2022-10-20T07:14:59.023085Z",
     "iopub.status.busy": "2022-10-20T07:14:59.022615Z",
     "iopub.status.idle": "2022-10-20T07:14:59.141614Z",
     "shell.execute_reply": "2022-10-20T07:14:59.140786Z",
     "shell.execute_reply.started": "2022-10-20T07:14:59.023051Z"
    }
   },
   "outputs": [],
   "source": [
    "data = pd.read_csv(\"captions.txt\")\n",
    "data.head()"
   ]
  },
  {
   "cell_type": "code",
   "execution_count": null,
   "metadata": {
    "execution": {
     "iopub.execute_input": "2022-10-20T07:14:59.144107Z",
     "iopub.status.busy": "2022-10-20T07:14:59.143829Z",
     "iopub.status.idle": "2022-10-20T07:14:59.151106Z",
     "shell.execute_reply": "2022-10-20T07:14:59.149814Z",
     "shell.execute_reply.started": "2022-10-20T07:14:59.144072Z"
    }
   },
   "outputs": [],
   "source": [
    "def readImage(path,img_size=224):\n",
    "    img = load_img(path,color_mode='rgb',target_size=(img_size,img_size))\n",
    "    img = img_to_array(img)\n",
    "    img = img/255.\n",
    "    \n",
    "    return img\n",
    "\n",
    "def display_images(temp_df):\n",
    "    temp_df = temp_df.reset_index(drop=True)\n",
    "    plt.figure(figsize = (20 , 20))\n",
    "    n = 0\n",
    "    for i in range(15):\n",
    "        n+=1\n",
    "        plt.subplot(5 , 5, n)\n",
    "        plt.subplots_adjust(hspace = 0.7, wspace = 0.3)\n",
    "        image = readImage(f\"Images/{temp_df.image[i]}\")\n",
    "        plt.imshow(image)\n",
    "        plt.title(\"\\n\".join(wrap(temp_df.caption[i], 20)))\n",
    "        plt.axis(\"off\")"
   ]
  },
  {
   "cell_type": "code",
   "execution_count": null,
   "metadata": {
    "execution": {
     "iopub.execute_input": "2022-10-20T07:14:59.152926Z",
     "iopub.status.busy": "2022-10-20T07:14:59.152456Z",
     "iopub.status.idle": "2022-10-20T07:15:01.213676Z",
     "shell.execute_reply": "2022-10-20T07:15:01.212952Z",
     "shell.execute_reply.started": "2022-10-20T07:14:59.152894Z"
    }
   },
   "outputs": [],
   "source": [
    "display_images(data.sample(15))"
   ]
  },
  {
   "cell_type": "code",
   "execution_count": null,
   "metadata": {
    "execution": {
     "iopub.execute_input": "2022-10-20T07:15:01.214994Z",
     "iopub.status.busy": "2022-10-20T07:15:01.214757Z",
     "iopub.status.idle": "2022-10-20T07:15:01.222323Z",
     "shell.execute_reply": "2022-10-20T07:15:01.221299Z",
     "shell.execute_reply.started": "2022-10-20T07:15:01.214965Z"
    }
   },
   "outputs": [],
   "source": [
    "def text_preprocessing(data):\n",
    "    data['caption'] = data['caption'].apply(lambda x: x.lower())\n",
    "    data['caption'] = data['caption'].apply(lambda x: x.replace(\"[^A-Za-z]\",\"\"))\n",
    "    data['caption'] = data['caption'].apply(lambda x: x.replace(\"\\s+\",\" \"))\n",
    "    data['caption'] = data['caption'].apply(lambda x: \" \".join([word for word in x.split() if len(word)>1]))\n",
    "    data['caption'] = \"startseq \"+data['caption']+\" endseq\"\n",
    "    return data"
   ]
  },
  {
   "cell_type": "code",
   "execution_count": null,
   "metadata": {
    "execution": {
     "iopub.execute_input": "2022-10-20T07:15:01.224130Z",
     "iopub.status.busy": "2022-10-20T07:15:01.223657Z",
     "iopub.status.idle": "2022-10-20T07:15:01.403949Z",
     "shell.execute_reply": "2022-10-20T07:15:01.403260Z",
     "shell.execute_reply.started": "2022-10-20T07:15:01.224098Z"
    }
   },
   "outputs": [],
   "source": [
    "data = text_preprocessing(data)\n",
    "captions = data['caption'].tolist()\n",
    "captions[:10]"
   ]
  },
  {
   "cell_type": "code",
   "execution_count": null,
   "metadata": {
    "execution": {
     "iopub.execute_input": "2022-10-20T07:15:01.405597Z",
     "iopub.status.busy": "2022-10-20T07:15:01.405132Z",
     "iopub.status.idle": "2022-10-20T07:15:02.041368Z",
     "shell.execute_reply": "2022-10-20T07:15:02.040689Z",
     "shell.execute_reply.started": "2022-10-20T07:15:01.405562Z"
    }
   },
   "outputs": [],
   "source": [
    "tokenizer = Tokenizer()\n",
    "tokenizer.fit_on_texts(captions)\n",
    "vocab_size = len(tokenizer.word_index) + 1\n",
    "max_length = max(len(caption.split()) for caption in captions)\n",
    "\n",
    "images = data['image'].unique().tolist()\n",
    "nimages = len(images)\n",
    "\n",
    "split_index = round(0.85*nimages)\n",
    "train_images = images[:split_index]\n",
    "val_images = images[split_index:]\n",
    "\n",
    "train = data[data['image'].isin(train_images)]\n",
    "test = data[data['image'].isin(val_images)]\n",
    "\n",
    "train.reset_index(inplace=True,drop=True)\n",
    "test.reset_index(inplace=True,drop=True)\n",
    "\n",
    "tokenizer.texts_to_sequences([captions[1]])[0]"
   ]
  },
  {
   "cell_type": "code",
   "execution_count": null,
   "metadata": {
    "execution": {
     "iopub.execute_input": "2022-10-23T06:17:28.119414Z",
     "iopub.status.busy": "2022-10-23T06:17:28.119094Z",
     "iopub.status.idle": "2022-10-23T06:17:42.709448Z",
     "shell.execute_reply": "2022-10-23T06:17:42.708001Z",
     "shell.execute_reply.started": "2022-10-23T06:17:28.119380Z"
    }
   },
   "outputs": [],
   "source": [
    "model = DenseNet201()\n",
    "fe = Model(inputs=model.input, outputs=model.layers[-2].output)\n",
    "\n",
    "img_size = 224\n",
    "features = {}\n",
    "for image in tqdm(data['image'].unique().tolist()):\n",
    "    img = load_img(os.path.join(image_path,image),target_size=(img_size,img_size))\n",
    "    img = img_to_array(img)\n",
    "    img = img/255.\n",
    "    img = np.expand_dims(img,axis=0)\n",
    "    feature = fe.predict(img, verbose=0)\n",
    "    features[image] = feature"
   ]
  },
  {
   "cell_type": "code",
   "execution_count": null,
   "metadata": {
    "execution": {
     "iopub.execute_input": "2022-10-20T07:24:10.475811Z",
     "iopub.status.busy": "2022-10-20T07:24:10.475601Z",
     "iopub.status.idle": "2022-10-20T07:24:10.488895Z",
     "shell.execute_reply": "2022-10-20T07:24:10.486699Z",
     "shell.execute_reply.started": "2022-10-20T07:24:10.475786Z"
    }
   },
   "outputs": [],
   "source": [
    "class CustomDataGenerator(Sequence):\n",
    "    \n",
    "    def __init__(self, df, X_col, y_col, batch_size, directory, tokenizer, \n",
    "                 vocab_size, max_length, features,shuffle=True):\n",
    "    \n",
    "        self.df = df.copy()\n",
    "        self.X_col = X_col\n",
    "        self.y_col = y_col\n",
    "        self.directory = directory\n",
    "        self.batch_size = batch_size\n",
    "        self.tokenizer = tokenizer\n",
    "        self.vocab_size = vocab_size\n",
    "        self.max_length = max_length\n",
    "        self.features = features\n",
    "        self.shuffle = shuffle\n",
    "        self.n = len(self.df)\n",
    "        \n",
    "    def on_epoch_end(self):\n",
    "        if self.shuffle:\n",
    "            self.df = self.df.sample(frac=1).reset_index(drop=True)\n",
    "    \n",
    "    def __len__(self):\n",
    "        return self.n // self.batch_size\n",
    "    \n",
    "    def __getitem__(self,index):\n",
    "    \n",
    "        batch = self.df.iloc[index * self.batch_size:(index + 1) * self.batch_size,:]\n",
    "        X1, X2, y = self.__get_data(batch)        \n",
    "        return (X1, X2), y\n",
    "    \n",
    "    def __get_data(self,batch):\n",
    "        \n",
    "        X1, X2, y = list(), list(), list()\n",
    "        \n",
    "        images = batch[self.X_col].tolist()\n",
    "           \n",
    "        for image in images:\n",
    "            feature = self.features[image][0]\n",
    "            \n",
    "            captions = batch.loc[batch[self.X_col]==image, self.y_col].tolist()\n",
    "            for caption in captions:\n",
    "                seq = self.tokenizer.texts_to_sequences([caption])[0]\n",
    "\n",
    "                for i in range(1,len(seq)):\n",
    "                    in_seq, out_seq = seq[:i], seq[i]\n",
    "                    in_seq = pad_sequences([in_seq], maxlen=self.max_length)[0]\n",
    "                    out_seq = to_categorical([out_seq], num_classes=self.vocab_size)[0]\n",
    "                    X1.append(feature)\n",
    "                    X2.append(in_seq)\n",
    "                    y.append(out_seq)\n",
    "            \n",
    "        X1, X2, y = np.array(X1), np.array(X2), np.array(y)\n",
    "                \n",
    "        return X1, X2, y"
   ]
  },
  {
   "cell_type": "code",
   "execution_count": null,
   "metadata": {
    "execution": {
     "iopub.execute_input": "2022-10-20T07:55:06.410927Z",
     "iopub.status.busy": "2022-10-20T07:55:06.410283Z",
     "iopub.status.idle": "2022-10-20T07:55:06.737417Z",
     "shell.execute_reply": "2022-10-20T07:55:06.736640Z",
     "shell.execute_reply.started": "2022-10-20T07:55:06.410891Z"
    }
   },
   "outputs": [],
   "source": [
    "input1 = Input(shape=(1920,))\n",
    "input2 = Input(shape=(max_length,))\n",
    "\n",
    "img_features = Dense(256, activation='relu')(input1)\n",
    "img_features_reshaped = Reshape((1, 256), input_shape=(256,))(img_features)\n",
    "\n",
    "sentence_features = Embedding(vocab_size, 256, mask_zero=False)(input2)\n",
    "merged = concatenate([img_features_reshaped,sentence_features],axis=1)\n",
    "sentence_features = LSTM(256)(merged)\n",
    "x = Dropout(0.5)(sentence_features)\n",
    "x = add([x, img_features])\n",
    "x = Dense(128, activation='relu')(x)\n",
    "x = Dropout(0.5)(x)\n",
    "output = Dense(vocab_size, activation='softmax')(x)\n",
    "\n",
    "caption_model = Model(inputs=[input1,input2], outputs=output)\n",
    "\n",
    "caption_model.compile(loss='categorical_crossentropy',optimizer='adam')"
   ]
  },
  {
   "cell_type": "code",
   "execution_count": null,
   "metadata": {
    "execution": {
     "iopub.execute_input": "2022-10-20T07:55:30.511043Z",
     "iopub.status.busy": "2022-10-20T07:55:30.510771Z",
     "iopub.status.idle": "2022-10-20T07:55:31.622722Z",
     "shell.execute_reply": "2022-10-20T07:55:31.621918Z",
     "shell.execute_reply.started": "2022-10-20T07:55:30.511013Z"
    }
   },
   "outputs": [],
   "source": [
    "from tensorflow.keras.utils import plot_model\n",
    "plot_model(caption_model)"
   ]
  },
  {
   "cell_type": "code",
   "execution_count": null,
   "metadata": {
    "execution": {
     "iopub.execute_input": "2022-10-20T07:55:42.573246Z",
     "iopub.status.busy": "2022-10-20T07:55:42.572925Z",
     "iopub.status.idle": "2022-10-20T07:55:42.588876Z",
     "shell.execute_reply": "2022-10-20T07:55:42.588049Z",
     "shell.execute_reply.started": "2022-10-20T07:55:42.573212Z"
    }
   },
   "outputs": [],
   "source": [
    "caption_model.summary()"
   ]
  },
  {
   "cell_type": "code",
   "execution_count": null,
   "metadata": {
    "execution": {
     "iopub.execute_input": "2022-10-20T07:55:49.298204Z",
     "iopub.status.busy": "2022-10-20T07:55:49.297920Z",
     "iopub.status.idle": "2022-10-20T07:55:49.308672Z",
     "shell.execute_reply": "2022-10-20T07:55:49.306277Z",
     "shell.execute_reply.started": "2022-10-20T07:55:49.298174Z"
    }
   },
   "outputs": [],
   "source": [
    "train_generator = CustomDataGenerator(df=train,X_col='image',y_col='caption',batch_size=64,directory=image_path,\n",
    "                                      tokenizer=tokenizer,vocab_size=vocab_size,max_length=max_length,features=features)\n",
    "\n",
    "validation_generator = CustomDataGenerator(df=test,X_col='image',y_col='caption',batch_size=64,directory=image_path,\n",
    "                                      tokenizer=tokenizer,vocab_size=vocab_size,max_length=max_length,features=features)"
   ]
  },
  {
   "cell_type": "code",
   "execution_count": null,
   "metadata": {
    "execution": {
     "iopub.execute_input": "2022-10-20T07:55:55.691487Z",
     "iopub.status.busy": "2022-10-20T07:55:55.691174Z",
     "iopub.status.idle": "2022-10-20T07:55:55.697202Z",
     "shell.execute_reply": "2022-10-20T07:55:55.696463Z",
     "shell.execute_reply.started": "2022-10-20T07:55:55.691453Z"
    }
   },
   "outputs": [],
   "source": [
    "model_name = \"model.h5\"\n",
    "checkpoint = ModelCheckpoint(model_name,\n",
    "                            monitor=\"val_loss\",\n",
    "                            mode=\"min\",\n",
    "                            save_best_only = True,\n",
    "                            verbose=1)\n",
    "\n",
    "earlystopping = EarlyStopping(monitor='val_loss',min_delta = 0, patience = 5, verbose = 1, restore_best_weights=True)\n",
    "\n",
    "learning_rate_reduction = ReduceLROnPlateau(monitor='val_loss', \n",
    "                                            patience=3, \n",
    "                                            verbose=1, \n",
    "                                            factor=0.2, \n",
    "                                            min_lr=0.00000001)"
   ]
  },
  {
   "cell_type": "code",
   "execution_count": null,
   "metadata": {
    "execution": {
     "iopub.execute_input": "2022-10-20T07:56:01.049363Z",
     "iopub.status.busy": "2022-10-20T07:56:01.048593Z",
     "iopub.status.idle": "2022-10-20T08:11:28.889570Z",
     "shell.execute_reply": "2022-10-20T08:11:28.888707Z",
     "shell.execute_reply.started": "2022-10-20T07:56:01.049330Z"
    }
   },
   "outputs": [],
   "source": [
    "history = caption_model.fit(\n",
    "        train_generator,\n",
    "        epochs=50,\n",
    "        validation_data=validation_generator,\n",
    "        callbacks=[checkpoint,earlystopping,learning_rate_reduction])"
   ]
  },
  {
   "cell_type": "code",
   "execution_count": null,
   "metadata": {
    "execution": {
     "iopub.execute_input": "2022-10-20T08:20:12.396728Z",
     "iopub.status.busy": "2022-10-20T08:20:12.396424Z",
     "iopub.status.idle": "2022-10-20T08:20:12.695053Z",
     "shell.execute_reply": "2022-10-20T08:20:12.694285Z",
     "shell.execute_reply.started": "2022-10-20T08:20:12.396699Z"
    }
   },
   "outputs": [],
   "source": [
    "plt.figure(figsize=(20,8))\n",
    "plt.plot(history.history['loss'])\n",
    "plt.plot(history.history['val_loss'])\n",
    "plt.title('model loss')\n",
    "plt.ylabel('loss')\n",
    "plt.xlabel('epoch')\n",
    "plt.legend(['train', 'val'], loc='upper left')\n",
    "plt.show()"
   ]
  },
  {
   "cell_type": "code",
   "execution_count": null,
   "metadata": {
    "execution": {
     "iopub.execute_input": "2022-10-20T08:20:21.782430Z",
     "iopub.status.busy": "2022-10-20T08:20:21.782145Z",
     "iopub.status.idle": "2022-10-20T08:20:21.786567Z",
     "shell.execute_reply": "2022-10-20T08:20:21.785788Z",
     "shell.execute_reply.started": "2022-10-20T08:20:21.782381Z"
    }
   },
   "outputs": [],
   "source": [
    "def idx_to_word(integer,tokenizer):\n",
    "    \n",
    "    for word, index in tokenizer.word_index.items():\n",
    "        if index==integer:\n",
    "            return word\n",
    "    return None"
   ]
  },
  {
   "cell_type": "code",
   "execution_count": null,
   "metadata": {
    "execution": {
     "iopub.execute_input": "2022-10-20T08:20:27.536055Z",
     "iopub.status.busy": "2022-10-20T08:20:27.535787Z",
     "iopub.status.idle": "2022-10-20T08:20:27.542204Z",
     "shell.execute_reply": "2022-10-20T08:20:27.541506Z",
     "shell.execute_reply.started": "2022-10-20T08:20:27.536026Z"
    }
   },
   "outputs": [],
   "source": [
    "def predict_caption(model, image, tokenizer, max_length, features):\n",
    "    \n",
    "    feature = features[image]\n",
    "    in_text = \"startseq\"\n",
    "    for i in range(max_length):\n",
    "        sequence = tokenizer.texts_to_sequences([in_text])[0]\n",
    "        sequence = pad_sequences([sequence], max_length)\n",
    "\n",
    "        y_pred = model.predict([feature,sequence])\n",
    "        y_pred = np.argmax(y_pred)\n",
    "        \n",
    "        word = idx_to_word(y_pred, tokenizer)\n",
    "        \n",
    "        if word is None:\n",
    "            break\n",
    "            \n",
    "        in_text+= \" \" + word\n",
    "        \n",
    "        if word == 'endseq':\n",
    "            break\n",
    "            \n",
    "    return in_text "
   ]
  },
  {
   "cell_type": "code",
   "execution_count": null,
   "metadata": {
    "execution": {
     "iopub.execute_input": "2022-10-20T08:20:32.632028Z",
     "iopub.status.busy": "2022-10-20T08:20:32.631288Z",
     "iopub.status.idle": "2022-10-20T08:20:32.638492Z",
     "shell.execute_reply": "2022-10-20T08:20:32.637566Z",
     "shell.execute_reply.started": "2022-10-20T08:20:32.631992Z"
    }
   },
   "outputs": [],
   "source": [
    "samples = test.sample(15)\n",
    "samples.reset_index(drop=True,inplace=True)"
   ]
  },
  {
   "cell_type": "code",
   "execution_count": null,
   "metadata": {
    "execution": {
     "iopub.execute_input": "2022-10-20T08:20:40.959236Z",
     "iopub.status.busy": "2022-10-20T08:20:40.958107Z",
     "iopub.status.idle": "2022-10-20T08:20:45.872546Z",
     "shell.execute_reply": "2022-10-20T08:20:45.871766Z",
     "shell.execute_reply.started": "2022-10-20T08:20:40.959191Z"
    }
   },
   "outputs": [],
   "source": [
    "for index,record in samples.iterrows():\n",
    "\n",
    "    img = load_img(os.path.join(image_path,record['image']),target_size=(224,224))\n",
    "    img = img_to_array(img)\n",
    "    img = img/255.\n",
    "    \n",
    "    caption = predict_caption(caption_model, record['image'], tokenizer, max_length, features)\n",
    "    samples.loc[index,'caption'] = caption"
   ]
  },
  {
   "cell_type": "code",
   "execution_count": null,
   "metadata": {
    "execution": {
     "iopub.execute_input": "2022-10-20T08:20:49.239351Z",
     "iopub.status.busy": "2022-10-20T08:20:49.238769Z",
     "iopub.status.idle": "2022-10-20T08:20:51.106141Z",
     "shell.execute_reply": "2022-10-20T08:20:51.105285Z",
     "shell.execute_reply.started": "2022-10-20T08:20:49.239315Z"
    }
   },
   "outputs": [],
   "source": [
    "display_images(samples)"
   ]
  },
  {
   "cell_type": "code",
   "execution_count": null,
   "metadata": {},
   "outputs": [],
   "source": [
    "import pickle\n",
    "with open('DenseNet201.pkl','wb') as model:\n",
    "    pickle.dump()"
   ]
  },
  {
   "cell_type": "code",
   "execution_count": null,
   "metadata": {
    "execution": {
     "iopub.execute_input": "2022-10-23T06:19:53.645721Z",
     "iopub.status.busy": "2022-10-23T06:19:53.645389Z",
     "iopub.status.idle": "2022-10-23T06:20:02.148259Z",
     "shell.execute_reply": "2022-10-23T06:20:02.147419Z",
     "shell.execute_reply.started": "2022-10-23T06:19:53.645688Z"
    }
   },
   "outputs": [],
   "source": [
    "!pip install -U \"mlfoundry\" \"servicefoundry\""
   ]
  },
  {
   "cell_type": "code",
   "execution_count": null,
   "metadata": {
    "execution": {
     "iopub.execute_input": "2022-10-23T06:20:03.066573Z",
     "iopub.status.busy": "2022-10-23T06:20:03.065708Z",
     "iopub.status.idle": "2022-10-23T06:20:03.132777Z",
     "shell.execute_reply": "2022-10-23T06:20:03.131550Z",
     "shell.execute_reply.started": "2022-10-23T06:20:03.066531Z"
    }
   },
   "outputs": [],
   "source": [
    "import mlfoundry"
   ]
  },
  {
   "cell_type": "code",
   "execution_count": null,
   "metadata": {},
   "outputs": [],
   "source": []
  }
 ],
 "metadata": {
  "kernelspec": {
   "display_name": "truefoundry",
   "language": "python",
   "name": "truefoundry"
  },
  "language_info": {
   "codemirror_mode": {
    "name": "ipython",
    "version": 3
   },
   "file_extension": ".py",
   "mimetype": "text/x-python",
   "name": "python",
   "nbconvert_exporter": "python",
   "pygments_lexer": "ipython3",
   "version": "3.9.12"
  }
 },
 "nbformat": 4,
 "nbformat_minor": 4
}
